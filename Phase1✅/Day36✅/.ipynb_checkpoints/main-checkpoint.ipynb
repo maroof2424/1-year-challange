{
 "cells": [
  {
   "cell_type": "code",
   "execution_count": null,
   "metadata": {},
   "outputs": [],
   "source": [
    "# Day 36: Notebook\n",
    "print('Hello, Day 36!')"
   ]
  }
 ],
 "metadata": {},
 "nbformat": 4,
 "nbformat_minor": 2
}