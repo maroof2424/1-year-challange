{
 "cells": [
  {
   "cell_type": "code",
   "execution_count": null,
   "id": "09e1c304-73a5-4d1d-b07a-cb95b2394cbb",
   "metadata": {},
   "outputs": [],
   "source": []
  }
 ],
 "metadata": {
  "kernelspec": {
   "display_name": "",
   "name": ""
  },
  "language_info": {
   "name": ""
  }
 },
 "nbformat": 4,
 "nbformat_minor": 5
}
