{
 "cells": [
  {
   "cell_type": "code",
   "execution_count": null,
   "id": "c7f092ce-012b-46a2-8242-66bd8cac5a01",
   "metadata": {},
   "outputs": [],
   "source": []
  }
 ],
 "metadata": {
  "kernelspec": {
   "display_name": "",
   "name": ""
  },
  "language_info": {
   "name": ""
  }
 },
 "nbformat": 4,
 "nbformat_minor": 5
}
