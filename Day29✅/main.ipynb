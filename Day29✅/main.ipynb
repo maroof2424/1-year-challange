{
 "cells": [
  {
   "cell_type": "code",
   "execution_count": null,
   "id": "a8df4509-5270-48ce-b08c-4c3836b117d4",
   "metadata": {},
   "outputs": [],
   "source": []
  }
 ],
 "metadata": {
  "kernelspec": {
   "display_name": "",
   "name": ""
  },
  "language_info": {
   "name": ""
  }
 },
 "nbformat": 4,
 "nbformat_minor": 5
}
